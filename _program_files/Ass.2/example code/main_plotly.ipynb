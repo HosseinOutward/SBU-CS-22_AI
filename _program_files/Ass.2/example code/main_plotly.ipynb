{
 "cells": [
  {
   "cell_type": "code",
   "execution_count": 296,
   "metadata": {
    "collapsed": true
   },
   "outputs": [
    {
     "name": "stdout",
     "output_type": "stream",
     "text": [
      "run time: 4.265707015991211\n"
     ]
    }
   ],
   "source": [
    "import random\n",
    "import sys, importlib\n",
    "import numpy as np\n",
    "from sklearn.decomposition import PCA\n",
    "from scipy.spatial import transform\n",
    "import gui, ai, sim\n",
    "from Main import main\n",
    "importlib.reload(sys.modules['Main'])\n",
    "importlib.reload(sys.modules['gui'])\n",
    "importlib.reload(sys.modules['ai'])\n",
    "importlib.reload(sys.modules['sim'])\n",
    "import gui, ai, sim, json\n",
    "from Main import main, one_to_complete_cord, sample_input_json\n",
    "\n",
    "with open(r\"complete_rubic.txt\", 'r') as fp:\n",
    "    res=eval(fp.read())\n",
    "yyy=4\n",
    "ok=True\n",
    "while ok:\n",
    "    al=[]\n",
    "    env=sim.Simulator(res[yyy], [[i+1,i+2] for i in range(26) if np.random.random()<0.3])\n",
    "    interf=sim.Interface()\n",
    "    agent = ai.Agent()\n",
    "    a=interf.valid_actions(env, [])\n",
    "    for _ in range(10):\n",
    "        if not interf.valid_state(env): break\n",
    "        al.append(a[np.random.randint(0, len(a))])\n",
    "        interf.evolve(env, al[-1])\n",
    "        ok=False\n",
    "agent.act(interf.perceive(env))\n",
    "\n",
    "with open(r\"problem_set.txt\", 'a') as fp:\n",
    "    fp.write(interf.perceive(env))\n",
    "    fp.write(\",\\n\")"
   ]
  },
  {
   "cell_type": "code",
   "execution_count": 236,
   "outputs": [],
   "source": [],
   "metadata": {
    "collapsed": false
   }
  }
 ],
 "metadata": {
  "kernelspec": {
   "display_name": "Python 3",
   "language": "python",
   "name": "python3"
  },
  "language_info": {
   "codemirror_mode": {
    "name": "ipython",
    "version": 2
   },
   "file_extension": ".py",
   "mimetype": "text/x-python",
   "name": "python",
   "nbconvert_exporter": "python",
   "pygments_lexer": "ipython2",
   "version": "2.7.6"
  }
 },
 "nbformat": 4,
 "nbformat_minor": 0
}
